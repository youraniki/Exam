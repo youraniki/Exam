{
 "cells": [
  {
   "cell_type": "code",
   "execution_count": 21,
   "id": "7d2669f6",
   "metadata": {},
   "outputs": [],
   "source": [
    "class BankAccount:\n",
    "    def __init__(self, account_number: int, balance: float, owner_name: str):\n",
    "        self.account_number = account_number\n",
    "        self.balance = balance\n",
    "        self.owner_name = owner_name\n",
    "\n",
    "    def deposit(self, amount):\n",
    "        self.balance += amount\n",
    "\n",
    "    def withdraw(self, amount):\n",
    "        if self.balance >= amount:\n",
    "            self.balance -= amount\n",
    "        else:\n",
    "            print(\"Недостаточно средств!\")\n",
    "\n",
    "    def get_balance(self):\n",
    "        return self.balance\n",
    "\n",
    "    def get_account_number(self):\n",
    "        return self.account_number\n",
    "\n",
    "    def get_owner_name(self):\n",
    "        return self.owner_name\n",
    "\n",
    "    def __str__(self):\n",
    "        return f\"ОАО БАНК РОМАШКОВОЙ ДОЛИНЫ. Данные счета:\\nФИО {self.owner_name}\\nНомер счета {self.account_number}\""
   ]
  },
  {
   "cell_type": "code",
   "execution_count": 22,
   "id": "7198d654",
   "metadata": {},
   "outputs": [],
   "source": [
    "A = BankAccount(88005, 450000, \"студент вышки в кабале кредита\")"
   ]
  },
  {
   "cell_type": "code",
   "execution_count": 23,
   "id": "a9fdccd0",
   "metadata": {},
   "outputs": [
    {
     "name": "stdout",
     "output_type": "stream",
     "text": [
      "ОАО БАНК РОМАШКОВОЙ ДОЛИНЫ. Данные счета:\n",
      "ФИО студент вышки в кабале кредита\n",
      "Номер счета 88005\n"
     ]
    }
   ],
   "source": [
    "print(A)"
   ]
  },
  {
   "cell_type": "code",
   "execution_count": 24,
   "id": "47e06e0c",
   "metadata": {},
   "outputs": [
    {
     "data": {
      "text/plain": [
       "450000"
      ]
     },
     "execution_count": 24,
     "metadata": {},
     "output_type": "execute_result"
    }
   ],
   "source": [
    "A.get_balance()"
   ]
  },
  {
   "cell_type": "code",
   "execution_count": 25,
   "id": "cbdced52",
   "metadata": {},
   "outputs": [
    {
     "name": "stdout",
     "output_type": "stream",
     "text": [
      "Недостаточно средств!\n"
     ]
    }
   ],
   "source": [
    "A.withdraw(500000)"
   ]
  },
  {
   "cell_type": "code",
   "execution_count": 26,
   "id": "f3d5a81f",
   "metadata": {},
   "outputs": [],
   "source": [
    "A.deposit(55000)"
   ]
  },
  {
   "cell_type": "code",
   "execution_count": 27,
   "id": "b63c597f",
   "metadata": {},
   "outputs": [],
   "source": [
    "A.withdraw(500000)"
   ]
  },
  {
   "cell_type": "code",
   "execution_count": 28,
   "id": "8734a141",
   "metadata": {},
   "outputs": [
    {
     "data": {
      "text/plain": [
       "5000"
      ]
     },
     "execution_count": 28,
     "metadata": {},
     "output_type": "execute_result"
    }
   ],
   "source": [
    "A.get_balance()"
   ]
  },
  {
   "cell_type": "code",
   "execution_count": 29,
   "id": "bf89505f",
   "metadata": {},
   "outputs": [
    {
     "ename": "TypeError",
     "evalue": "unsupported operand type(s) for +=: 'int' and 'str'",
     "output_type": "error",
     "traceback": [
      "\u001b[0;31m---------------------------------------------------------------------------\u001b[0m",
      "\u001b[0;31mTypeError\u001b[0m                                 Traceback (most recent call last)",
      "\u001b[0;32m/var/folders/k0/79z0qy951018298yqspryt240000gn/T/ipykernel_46650/40257557.py\u001b[0m in \u001b[0;36m<module>\u001b[0;34m\u001b[0m\n\u001b[0;32m----> 1\u001b[0;31m \u001b[0mA\u001b[0m\u001b[0;34m.\u001b[0m\u001b[0mdeposit\u001b[0m\u001b[0;34m(\u001b[0m\u001b[0;34m\"Много денег\"\u001b[0m\u001b[0;34m)\u001b[0m\u001b[0;34m\u001b[0m\u001b[0;34m\u001b[0m\u001b[0m\n\u001b[0m",
      "\u001b[0;32m/var/folders/k0/79z0qy951018298yqspryt240000gn/T/ipykernel_46650/3364066796.py\u001b[0m in \u001b[0;36mdeposit\u001b[0;34m(self, amount)\u001b[0m\n\u001b[1;32m      6\u001b[0m \u001b[0;34m\u001b[0m\u001b[0m\n\u001b[1;32m      7\u001b[0m     \u001b[0;32mdef\u001b[0m \u001b[0mdeposit\u001b[0m\u001b[0;34m(\u001b[0m\u001b[0mself\u001b[0m\u001b[0;34m,\u001b[0m \u001b[0mamount\u001b[0m\u001b[0;34m)\u001b[0m\u001b[0;34m:\u001b[0m\u001b[0;34m\u001b[0m\u001b[0;34m\u001b[0m\u001b[0m\n\u001b[0;32m----> 8\u001b[0;31m         \u001b[0mself\u001b[0m\u001b[0;34m.\u001b[0m\u001b[0mbalance\u001b[0m \u001b[0;34m+=\u001b[0m \u001b[0mamount\u001b[0m\u001b[0;34m\u001b[0m\u001b[0;34m\u001b[0m\u001b[0m\n\u001b[0m\u001b[1;32m      9\u001b[0m \u001b[0;34m\u001b[0m\u001b[0m\n\u001b[1;32m     10\u001b[0m     \u001b[0;32mdef\u001b[0m \u001b[0mwithdraw\u001b[0m\u001b[0;34m(\u001b[0m\u001b[0mself\u001b[0m\u001b[0;34m,\u001b[0m \u001b[0mamount\u001b[0m\u001b[0;34m)\u001b[0m\u001b[0;34m:\u001b[0m\u001b[0;34m\u001b[0m\u001b[0;34m\u001b[0m\u001b[0m\n",
      "\u001b[0;31mTypeError\u001b[0m: unsupported operand type(s) for +=: 'int' and 'str'"
     ]
    }
   ],
   "source": [
    "A.deposit(\"Много денег\")"
   ]
  }
 ],
 "metadata": {
  "kernelspec": {
   "display_name": "Python 3 (ipykernel)",
   "language": "python",
   "name": "python3"
  },
  "language_info": {
   "codemirror_mode": {
    "name": "ipython",
    "version": 3
   },
   "file_extension": ".py",
   "mimetype": "text/x-python",
   "name": "python",
   "nbconvert_exporter": "python",
   "pygments_lexer": "ipython3",
   "version": "3.9.13"
  }
 },
 "nbformat": 4,
 "nbformat_minor": 5
}
